{
 "cells": [
  {
   "cell_type": "code",
   "execution_count": null,
   "metadata": {},
   "outputs": [],
   "source": [
    "#Dependencies\n",
    "#Import Beautiful Soup for parsing\n",
    "#Import Splinter for site navigation\n",
    "#Importing extra dependencies to try in future improvements\n",
    "\n",
    "from splinter import Browser\n",
    "from bs4 import BeautifulSoup as bs\n",
    "import pandas as pd\n",
    "import time\n",
    "from selenium import webdriver\n",
    "from splinter.exceptions import ElementDoesNotExist\n",
    "from bs4 import BeautifulSoup\n",
    "import pandas as pd\n",
    "import re\n",
    "\n",
    "import requests"
   ]
  },
  {
   "cell_type": "markdown",
   "metadata": {},
   "source": [
    "Mars News"
   ]
  },
  {
   "cell_type": "code",
   "execution_count": null,
   "metadata": {},
   "outputs": [],
   "source": [
    "#NASA Mars News\n",
    "#Visit the NASA news url and set the chromedriver path\n",
    "#A chrome window will open for this setup but it can be changed to other browser types\n",
    "#version of chromedriver used here is 73.0.3683.20, supports Chrome version 73\n",
    "executable_path = {\"executable_path\": \"chromedriver\"}\n",
    "browser= Browser(\"chrome\", **executable_path, headless=False)\n",
    "#Could have used actual link but generalized link worked fine. Target page set up here.\n",
    "#url = 'https://mars.nasa.gov/news/?page=0&per_page=40&order=publish_date+desc%2Ccreated_at+desc&search=&category=19%2C165%2C184%2C204&blank_scope=Latest'\n",
    "url = 'https://mars.nasa.gov/news/'\n",
    "browser.visit(url)\n",
    "time.sleep(1)"
   ]
  },
  {
   "cell_type": "code",
   "execution_count": null,
   "metadata": {},
   "outputs": [],
   "source": [
    "#Using bs\n",
    "html = browser.html\n",
    "soup = bs(html, 'html.parser')"
   ]
  },
  {
   "cell_type": "code",
   "execution_count": null,
   "metadata": {},
   "outputs": [],
   "source": [
    "#Optional long display of webpage data\n",
    "print(soup.prettify())"
   ]
  },
  {
   "cell_type": "code",
   "execution_count": null,
   "metadata": {},
   "outputs": [],
   "source": [
    "#Give me a headline\n",
    "#news_title = soup.find('div',class_='content_title').text\n",
    "#news_p = soup.find(\"div\", class_=\"article_teaser_body\").text\n",
    "#print(\"Title: \" + news_title)\n",
    "#print(\"Summary: \" + news_p)"
   ]
  },
  {
   "cell_type": "code",
   "execution_count": null,
   "metadata": {},
   "outputs": [],
   "source": [
    "#Save the most recent article, with title and date\n",
    "article=soup.find(\"div\",class_=\"list_text\")\n",
    "news_title = article.find(\"div\",class_=\"content_title\").text\n",
    "news_date = article.find(\"div\",class_ =\"list_date\").text\n",
    "news_p = soup.find(\"div\", class_= \"article_teaser_body\").text\n",
    "print(\"Title: \" + news_title)\n",
    "print(\"Date: \" + news_date)\n",
    "print(\"Summary: \" + news_p)"
   ]
  },
  {
   "cell_type": "markdown",
   "metadata": {},
   "source": [
    "Images"
   ]
  },
  {
   "cell_type": "code",
   "execution_count": null,
   "metadata": {},
   "outputs": [],
   "source": [
    "#JPL Mars Space Images - Featured Image\n",
    "#Repeated executable path steps but can be commented out if kept in context\n",
    "#executable_path = {\"executable_path\": \"chromedriver\"}\n",
    "#browser = Browser(\"chrome\", **executable_path, headless=False)\n",
    "\n",
    "#JPL Mars url\n",
    "url = \"https://www.jpl.nasa.gov/spaceimages/?search=&category=Mars\"\n",
    "browser.visit(url)\n",
    "\n",
    "#Using bs\n",
    "#html = browser.html\n",
    "#soup = bs(html, 'html.parser')"
   ]
  },
  {
   "cell_type": "code",
   "execution_count": null,
   "metadata": {},
   "outputs": [],
   "source": [
    "#Scrape browser, parse into soup, use soup to find mars image\n",
    "#Save mars image as img_url (or featured_image_url)\n",
    "browser.find_by_id('full_image').click()\n",
    "time.sleep(3)\n",
    "\n",
    "html = browser.html\n",
    "soup = bs(html, 'html.parser')\n",
    "image = soup.find(\"img\",class_=\"thumb\")[\"src\"]\n",
    "img_url = \"https://www.jpl.nasa.gov\"+ image\n",
    "featured_image_url = img_url\n",
    "#featured_image_url = \"https://www.jpl.nasa.gov\" + soup.find(\"img\", class_ = \"fancybox-image\")[\"src\"] \n",
    "featured_image_url\n",
    "\n",
    "#Download and save the image img_url\n",
    "#import shutil\n",
    "#response = requests.get(img_url,stream=True)\n",
    "#with open ('img.jpg','wb') as out_file:\n",
    "   # shutil.copyfileobj(response.raw,out_file)\n",
    "#Display\n",
    "#from IPYTHON.display import Image\n",
    "#Image(url='img.jpg')"
   ]
  },
  {
   "cell_type": "markdown",
   "metadata": {},
   "source": [
    "Mars Weather"
   ]
  },
  {
   "cell_type": "code",
   "execution_count": null,
   "metadata": {},
   "outputs": [],
   "source": [
    "#Mars Weather\n",
    "#Scraping latest Mars weather from their Twitter\n",
    "executable_path = {\"executable_path\": \"chromedriver\"}\n",
    "browser= Browser(\"chrome\", **executable_path, headless=False)\n",
    "url = 'https://twitter.com/marswxreport?lang=en'\n",
    "browser.visit(url)\n",
    "time.sleep(1)"
   ]
  },
  {
   "cell_type": "code",
   "execution_count": null,
   "metadata": {},
   "outputs": [],
   "source": [
    "#HTML object\n",
    "html = browser.html\n",
    "# Parse HTML with bs\n",
    "weather_soup = bs(html, 'html.parser')"
   ]
  },
  {
   "cell_type": "code",
   "execution_count": null,
   "metadata": {},
   "outputs": [],
   "source": [
    "#Find elements that contain tweets\n",
    "mars_weather = weather_soup.find('div', class_='js-tweet-text-container')\n",
    "#mars_weather = weather_soup.find(\"div\", attrs = {\"class\":\"tweet\", \"data-name\":\" Mars Weather\"})\n",
    "#mars_weather\n",
    "\n",
    "#Retrieve all elements that contain news title in the specified range\n",
    "#Look for entries that display weather related words to exclude non weather related tweets \n",
    "#for tweet in latest_tweets: \n",
    "#weather_tweet = tweet.find('p').text\n",
    "#if 'Sol' and 'pressure' in weather_tweet:\n",
    "#    print(weather_tweet)\n",
    "#    break\n",
    "#else: \n",
    "#    pass\n",
    "print(mars_weather)"
   ]
  },
  {
   "cell_type": "code",
   "execution_count": null,
   "metadata": {},
   "outputs": [],
   "source": [
    "#In case they tweeted something complicated, can scrape recent tweet\n",
    "mars_recent_tweet=mars_weather.find(\"p\",class_=\"tweet-text\").get_text()\n",
    "mars_recent_tweet"
   ]
  },
  {
   "cell_type": "markdown",
   "metadata": {},
   "source": [
    "Mars Facts"
   ]
  },
  {
   "cell_type": "code",
   "execution_count": null,
   "metadata": {},
   "outputs": [],
   "source": [
    "#Mars Facts\n",
    "#Visit the facts url and scrape data. Put into panda.\n",
    "#import pandas as pd\n",
    "url = \"https://space-facts.com/mars/\"\n",
    "browser.visit(url)\n",
    "time.sleep(1)\n",
    "tables = pd.read_html(url)\n",
    "tables"
   ]
  },
  {
   "cell_type": "code",
   "execution_count": null,
   "metadata": {},
   "outputs": [],
   "source": [
    "df_mars = tables[0]\n",
    "df_mars.columns = [\"Description\", \"Value\"]\n",
    "df_mars"
   ]
  },
  {
   "cell_type": "code",
   "execution_count": null,
   "metadata": {},
   "outputs": [],
   "source": [
    "#Put facts into html\n",
    "html_mars = df_mars.to_html()\n",
    "html_mars"
   ]
  },
  {
   "cell_type": "markdown",
   "metadata": {},
   "source": [
    "Mars Hemispheres"
   ]
  },
  {
   "cell_type": "code",
   "execution_count": null,
   "metadata": {},
   "outputs": [],
   "source": [
    "#Mars Hemispheres\n",
    "hemisphere_image_urls = []\n",
    "\n",
    "#Can loop through and get 4 at once\n",
    "#html = browser.html\n",
    "#soup = bs(html, 'html.parser')\n",
    "#hemisphere_image_urls = []\n",
    "#for i in range (4):\n",
    "#    time.sleep(5)\n",
    "#    images = browser.find_by_tag('h3')\n",
    "#    images[i].click()\n",
    "#    html = browser.html\n",
    "#    soup = bs(html, ,html.parser')\n",
    "#    partial = soup.find(\"img\",class_=\"wide-image\")[src]\n",
    "#    img_title = soup.find(\"h2\",class_=\"title\").text\n",
    "#    img_url = https://astrogeology.usgs.gov'+partial\n",
    "#    dictionary={\"title\":img_title,\"img_url\":img_url}\n",
    "#    hemisphere_image_urls.append(dictionary)\n",
    "#    browser.back()\n",
    "#print(hemisphere_image_urls)"
   ]
  },
  {
   "cell_type": "code",
   "execution_count": null,
   "metadata": {},
   "outputs": [],
   "source": [
    "#Cerberus Hemisphere\n",
    "executable_path = {'executable_path': 'chromedriver'}\n",
    "browser = Browser('chrome', **executable_path, headless=True)\n",
    "url = \"https://astrogeology.usgs.gov/search/results?q=hemisphere+enhanced&k1=target&v1=Mars\"\n",
    "browser.visit(url)\n",
    "browser.find_link_by_partial_text('Cerberus Hemisphere Enhanced').click()\n",
    "time.sleep(3)\n",
    "html = browser.html\n",
    "soup = bs(html, 'html.parser')\n",
    "cerberus_url = soup.find('div', class_ = 'downloads').a[\"href\"]\n",
    "cerberus_title = soup.find(\"h2\", class_=\"title\").text\n",
    "cerberus = {\n",
    "    \"title\": cerberus_title,\n",
    "    \"img_url\": cerberus_url\n",
    "}\n",
    "hemisphere_image_urls.append(cerberus)\n",
    "cerberus"
   ]
  },
  {
   "cell_type": "code",
   "execution_count": null,
   "metadata": {},
   "outputs": [],
   "source": [
    "#Schiaparelli Hemisphere\n",
    "executable_path = {'executable_path': 'chromedriver'}\n",
    "browser = Browser('chrome', **executable_path, headless=True)\n",
    "url = \"https://astrogeology.usgs.gov/search/results?q=hemisphere+enhanced&k1=target&v1=Mars\"\n",
    "browser.visit(url)\n",
    "browser.find_link_by_partial_text('Schiaparelli Hemisphere Enhanced').click()\n",
    "time.sleep(3)\n",
    "html = browser.html\n",
    "soup = bs(html, 'html.parser')\n",
    "schiaparelli_url = soup.find('div', class_= 'downloads').a['href']\n",
    "schiaparelli_title = soup.find(\"h2\", class_=\"title\").text\n",
    "schiaparelli = {\n",
    "    \"title\": schiaparelli_title,\n",
    "    \"img_url\": schiaparelli_url\n",
    "}\n",
    "hemisphere_image_urls.append(schiaparelli)\n",
    "schiaparelli"
   ]
  },
  {
   "cell_type": "code",
   "execution_count": null,
   "metadata": {},
   "outputs": [],
   "source": [
    "#Syrtis Major Hemisphere\n",
    "executable_path = {'executable_path': 'chromedriver'}\n",
    "browser = Browser('chrome', **executable_path, headless=True)\n",
    "url = \"https://astrogeology.usgs.gov/search/results?q=hemisphere+enhanced&k1=target&v1=Mars\"\n",
    "browser.visit(url)\n",
    "browser.find_link_by_partial_text('Syrtis Major Hemisphere Enhanced').click()\n",
    "time.sleep(3)\n",
    "html = browser.html\n",
    "soup = bs(html, 'html.parser')\n",
    "syrtis_url = soup.find('div', class_ = 'downloads').a['href']\n",
    "syrtis_title = soup.find(\"h2\", class_=\"title\").text\n",
    "syrtis= {\n",
    "    \"title\": syrtis_title,\n",
    "    \"img_url\": syrtis_url\n",
    "}\n",
    "hemisphere_image_urls.append(syrtis)\n",
    "syrtis"
   ]
  },
  {
   "cell_type": "code",
   "execution_count": null,
   "metadata": {},
   "outputs": [],
   "source": [
    "#Valles Marineris Hemisphere\n",
    "executable_path = {'executable_path': 'chromedriver'}\n",
    "browser = Browser('chrome', **executable_path, headless=True)\n",
    "url = \"https://astrogeology.usgs.gov/search/results?q=hemisphere+enhanced&k1=target&v1=Mars\"\n",
    "browser.visit(url)\n",
    "browser.find_link_by_partial_text('Valles Marineris Hemisphere Enhanced').click()\n",
    "time.sleep(3)\n",
    "html = browser.html\n",
    "soup = bs(html, 'html.parser')\n",
    "valles_url = soup.find('div', 'downloads').a['href']\n",
    "valles_title = soup.find(\"h2\", class_=\"title\").text\n",
    "valles = {\n",
    "    \"title\": valles_title,\n",
    "    \"img_url\": valles_url\n",
    "}\n",
    "hemisphere_image_urls.append(valles)\n",
    "valles"
   ]
  },
  {
   "cell_type": "code",
   "execution_count": null,
   "metadata": {},
   "outputs": [],
   "source": [
    "#Display the hemisphere_image_urls\n",
    "hemisphere_image_urls"
   ]
  },
  {
   "cell_type": "code",
   "execution_count": 1,
   "metadata": {},
   "outputs": [],
   "source": [
    "from flask import Flask, render_template, redirect\n",
    "from flask_pymongo import PyMongo\n",
    "import scrape_mars\n",
    "\n",
    "app = Flask(__name__)\n",
    "\n",
    "app.config[\"MONGO_URI\"] = \"mongodb://localhost:27017/mars_data\"\n",
    "mongo = PyMongo(app)"
   ]
  },
  {
   "cell_type": "code",
   "execution_count": 2,
   "metadata": {},
   "outputs": [],
   "source": [
    "mars= mongo.db.mars_data\n",
    "mars_data = scrape_mars.scrape()"
   ]
  },
  {
   "cell_type": "code",
   "execution_count": 3,
   "metadata": {},
   "outputs": [
    {
     "data": {
      "text/plain": [
       "{'Title': 'After a Reset, Curiosity Is Operating Normally',\n",
       " 'Date': 'February 28, 2019',\n",
       " 'Summary': 'Curiosity has returned to science operations and is once again exploring the clay unit. ',\n",
       " 'featured_image_url': 'https://www.jpl.nasa.gov/spaceimages/images/mediumsize/PIA19048_ip.jpg',\n",
       " 'mars_weather': 'InSight sol 92 (2019-03-01) low -94.4ºC (-137.9ºF) high -12.9ºC (8.8ºF)\\nwinds from the SW at 4.6 m/s (10.2 mph) gusting to 10.4 m/s (23.2 mph)\\npressure at 7.20 hPapic.twitter.com/zxXhRFOwTo',\n",
       " 'html_mars': '<table border=\"1\" class=\"dataframe\">\\n  <thead>\\n    <tr style=\"text-align: right;\">\\n      <th></th>\\n      <th>Description</th>\\n      <th>Value</th>\\n    </tr>\\n  </thead>\\n  <tbody>\\n    <tr>\\n      <th>0</th>\\n      <td>Equatorial Diameter:</td>\\n      <td>6,792 km</td>\\n    </tr>\\n    <tr>\\n      <th>1</th>\\n      <td>Polar Diameter:</td>\\n      <td>6,752 km</td>\\n    </tr>\\n    <tr>\\n      <th>2</th>\\n      <td>Mass:</td>\\n      <td>6.42 x 10^23 kg (10.7% Earth)</td>\\n    </tr>\\n    <tr>\\n      <th>3</th>\\n      <td>Moons:</td>\\n      <td>2 (Phobos &amp; Deimos)</td>\\n    </tr>\\n    <tr>\\n      <th>4</th>\\n      <td>Orbit Distance:</td>\\n      <td>227,943,824 km (1.52 AU)</td>\\n    </tr>\\n    <tr>\\n      <th>5</th>\\n      <td>Orbit Period:</td>\\n      <td>687 days (1.9 years)</td>\\n    </tr>\\n    <tr>\\n      <th>6</th>\\n      <td>Surface Temperature:</td>\\n      <td>-153 to 20 °C</td>\\n    </tr>\\n    <tr>\\n      <th>7</th>\\n      <td>First Record:</td>\\n      <td>2nd millennium BC</td>\\n    </tr>\\n    <tr>\\n      <th>8</th>\\n      <td>Recorded By:</td>\\n      <td>Egyptian astronomers</td>\\n    </tr>\\n  </tbody>\\n</table>',\n",
       " 'hemisphere_image_urls': [{'title': 'Cerberus Hemisphere Enhanced',\n",
       "   'img_url': 'http://astropedia.astrogeology.usgs.gov/download/Mars/Viking/cerberus_enhanced.tif/full.jpg'},\n",
       "  {'title': 'Schiaparelli Hemisphere Enhanced',\n",
       "   'img_url': 'http://astropedia.astrogeology.usgs.gov/download/Mars/Viking/schiaparelli_enhanced.tif/full.jpg'},\n",
       "  {'title': 'Syrtis Major Hemisphere Enhanced',\n",
       "   'img_url': 'http://astropedia.astrogeology.usgs.gov/download/Mars/Viking/syrtis_major_enhanced.tif/full.jpg'},\n",
       "  {'title': 'Valles Marineris Hemisphere Enhanced',\n",
       "   'img_url': 'http://astropedia.astrogeology.usgs.gov/download/Mars/Viking/valles_marineris_enhanced.tif/full.jpg'}]}"
      ]
     },
     "execution_count": 3,
     "metadata": {},
     "output_type": "execute_result"
    }
   ],
   "source": [
    "mars_data"
   ]
  },
  {
   "cell_type": "code",
   "execution_count": 4,
   "metadata": {},
   "outputs": [
    {
     "name": "stderr",
     "output_type": "stream",
     "text": [
      "C:\\Users\\la_le\\Anaconda3\\envs\\ut_data\\lib\\site-packages\\ipykernel_launcher.py:1: DeprecationWarning: update is deprecated. Use replace_one, update_one or update_many instead.\n",
      "  \"\"\"Entry point for launching an IPython kernel.\n"
     ]
    },
    {
     "data": {
      "text/plain": [
       "{'n': 1,\n",
       " 'nModified': 0,\n",
       " 'upserted': ObjectId('5c7dc9a85992261b96f345fb'),\n",
       " 'ok': 1.0,\n",
       " 'updatedExisting': False}"
      ]
     },
     "execution_count": 4,
     "metadata": {},
     "output_type": "execute_result"
    }
   ],
   "source": [
    "mars.update({}, mars_data, upsert=True)"
   ]
  },
  {
   "cell_type": "code",
   "execution_count": null,
   "metadata": {},
   "outputs": [],
   "source": []
  }
 ],
 "metadata": {
  "kernelspec": {
   "display_name": "ut_data",
   "language": "python",
   "name": "ut_data"
  },
  "language_info": {
   "codemirror_mode": {
    "name": "ipython",
    "version": 3
   },
   "file_extension": ".py",
   "mimetype": "text/x-python",
   "name": "python",
   "nbconvert_exporter": "python",
   "pygments_lexer": "ipython3",
   "version": "3.7.1"
  }
 },
 "nbformat": 4,
 "nbformat_minor": 2
}
